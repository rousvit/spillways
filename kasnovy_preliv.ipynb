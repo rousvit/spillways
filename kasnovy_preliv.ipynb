{
 "cells": [
  {
   "cell_type": "code",
   "execution_count": 2,
   "metadata": {},
   "outputs": [],
   "source": [
    "import pandas as pd\n",
    "import math\n",
    "import numpy as np\n",
    "import matplotlib.pyplot as plt"
   ]
  },
  {
   "cell_type": "code",
   "execution_count": 3,
   "metadata": {},
   "outputs": [],
   "source": [
    "class BellMouthSpillway(object):\n",
    "    pass"
   ]
  },
  {
   "cell_type": "code",
   "execution_count": 27,
   "metadata": {},
   "outputs": [],
   "source": [
    "# list with heights of water overflow in meters\n",
    "h = np.arange(0.01, 0.42, 0.02)\n",
    "\n",
    "# radius of the semicircular crown\n",
    "r = 0.2\n",
    "\n",
    "# depth of water\n",
    "s = 1.4\n",
    "\n",
    "# width of spillway in m\n",
    "b = 6\n",
    "\n",
    "# contraction coeff\n",
    "Kpo = 0.1\n",
    "\n",
    "# number of contractions\n",
    "n = 2"
   ]
  },
  {
   "cell_type": "code",
   "execution_count": 28,
   "metadata": {},
   "outputs": [],
   "source": [
    "def overflow_coeff_circ(h, r, s):\n",
    "    \"\"\"\n",
    "    returns spillway coefficient for Bell Mouth Spilway\n",
    "    input: overflow coefficient (overflow_coeff_circ) for spillway with halfcircular crown (float)\n",
    "    output: float\n",
    "    \"\"\"\n",
    "    overflow_coeffs = []\n",
    "    for height in h:\n",
    "        o = 1.02 - (1.015/(height/r + 2.08)) + (0.04 * (height/r + 0.19)**2 + 0.0223) * (r/s)\n",
    "        overflow_coeffs.append(o)\n",
    "    return overflow_coeffs\n",
    "\n",
    "def spillway_coeff_bell(x):\n",
    "    \"\"\"\n",
    "    returns spillway coefficient for Bell Mouth Spilway\n",
    "    input: overflow coefficient (overflow_coeff_circ) for spillway with halfcircular crown (float)\n",
    "    output: float\n",
    "    \"\"\"\n",
    "    spillway_coeff = []\n",
    "    for coeff in x:\n",
    "        m = 2/3 * coeff\n",
    "        spillway_coeff.append(m)\n",
    "    return spillway_coeff\n",
    "\n",
    "def actual_width_of_spillway(b, Kpo, n, h):\n",
    "    \"\"\"\n",
    "    Returns width of the spillway enalarged by the contraction coefficient\n",
    "    input:\n",
    "        b - width of spillway\n",
    "        n - number of contractions\n",
    "        Kpo - contraction coefficient\n",
    "        h - design height\n",
    "    output:\n",
    "        float - actual width of spillway\n",
    "    \"\"\"\n",
    "    actual_width = []\n",
    "    for height in h:\n",
    "        width = b - (n * Kpo * height)\n",
    "        actual_width.append(width)\n",
    "    return actual_width\n",
    "    \n",
    "\n",
    "def consumption_curve(h, r, s, b, Kpo, n):\n",
    "    \"\"\"\n",
    "    input:\n",
    "    output:\n",
    "    \"\"\"\n",
    "    m = spillway_coeff_bell(overflow_coeff_circ(h, r, s))\n",
    "    b0 = actual_width_of_spillway(b, Kpo, n, h)\n",
    "    \n",
    "    x = pd.DataFrame(list(zip(h, b0, m)),\n",
    "              columns=['Water Height (m)','Width (m)', 'Weir Coefficient (-)'])\n",
    "    \n",
    "    x['Flow (m3/s)'] = x['Weir Coefficient (-)'] * x['Width (m)'] * ((2*9.81)**0.5) * (x['Water Height (m)']**(3/2))\n",
    "    \n",
    "    return x\n",
    "    "
   ]
  },
  {
   "cell_type": "code",
   "execution_count": 29,
   "metadata": {},
   "outputs": [],
   "source": [
    "x = consumption_curve(h, r, s, b, Kpo, n)"
   ]
  },
  {
   "cell_type": "code",
   "execution_count": 30,
   "metadata": {},
   "outputs": [
    {
     "data": {
      "text/html": [
       "<div>\n",
       "<style scoped>\n",
       "    .dataframe tbody tr th:only-of-type {\n",
       "        vertical-align: middle;\n",
       "    }\n",
       "\n",
       "    .dataframe tbody tr th {\n",
       "        vertical-align: top;\n",
       "    }\n",
       "\n",
       "    .dataframe thead th {\n",
       "        text-align: right;\n",
       "    }\n",
       "</style>\n",
       "<table border=\"1\" class=\"dataframe\">\n",
       "  <thead>\n",
       "    <tr style=\"text-align: right;\">\n",
       "      <th></th>\n",
       "      <th>Water Height (m)</th>\n",
       "      <th>Width (m)</th>\n",
       "      <th>Weir Coefficient (-)</th>\n",
       "      <th>Flow (m3/s)</th>\n",
       "    </tr>\n",
       "  </thead>\n",
       "  <tbody>\n",
       "    <tr>\n",
       "      <th>0</th>\n",
       "      <td>0.01</td>\n",
       "      <td>5.998</td>\n",
       "      <td>0.364659</td>\n",
       "      <td>0.009688</td>\n",
       "    </tr>\n",
       "    <tr>\n",
       "      <th>1</th>\n",
       "      <td>0.03</td>\n",
       "      <td>5.994</td>\n",
       "      <td>0.379126</td>\n",
       "      <td>0.052304</td>\n",
       "    </tr>\n",
       "    <tr>\n",
       "      <th>2</th>\n",
       "      <td>0.05</td>\n",
       "      <td>5.990</td>\n",
       "      <td>0.392446</td>\n",
       "      <td>0.116416</td>\n",
       "    </tr>\n",
       "    <tr>\n",
       "      <th>3</th>\n",
       "      <td>0.07</td>\n",
       "      <td>5.986</td>\n",
       "      <td>0.404771</td>\n",
       "      <td>0.198766</td>\n",
       "    </tr>\n",
       "    <tr>\n",
       "      <th>4</th>\n",
       "      <td>0.09</td>\n",
       "      <td>5.982</td>\n",
       "      <td>0.416227</td>\n",
       "      <td>0.297776</td>\n",
       "    </tr>\n",
       "    <tr>\n",
       "      <th>5</th>\n",
       "      <td>0.11</td>\n",
       "      <td>5.978</td>\n",
       "      <td>0.426922</td>\n",
       "      <td>0.412423</td>\n",
       "    </tr>\n",
       "    <tr>\n",
       "      <th>6</th>\n",
       "      <td>0.13</td>\n",
       "      <td>5.974</td>\n",
       "      <td>0.436949</td>\n",
       "      <td>0.541951</td>\n",
       "    </tr>\n",
       "    <tr>\n",
       "      <th>7</th>\n",
       "      <td>0.15</td>\n",
       "      <td>5.970</td>\n",
       "      <td>0.446385</td>\n",
       "      <td>0.685757</td>\n",
       "    </tr>\n",
       "    <tr>\n",
       "      <th>8</th>\n",
       "      <td>0.17</td>\n",
       "      <td>5.966</td>\n",
       "      <td>0.455300</td>\n",
       "      <td>0.843342</td>\n",
       "    </tr>\n",
       "    <tr>\n",
       "      <th>9</th>\n",
       "      <td>0.19</td>\n",
       "      <td>5.962</td>\n",
       "      <td>0.463752</td>\n",
       "      <td>1.014280</td>\n",
       "    </tr>\n",
       "    <tr>\n",
       "      <th>10</th>\n",
       "      <td>0.21</td>\n",
       "      <td>5.958</td>\n",
       "      <td>0.471794</td>\n",
       "      <td>1.198205</td>\n",
       "    </tr>\n",
       "    <tr>\n",
       "      <th>11</th>\n",
       "      <td>0.23</td>\n",
       "      <td>5.954</td>\n",
       "      <td>0.479470</td>\n",
       "      <td>1.394798</td>\n",
       "    </tr>\n",
       "    <tr>\n",
       "      <th>12</th>\n",
       "      <td>0.25</td>\n",
       "      <td>5.950</td>\n",
       "      <td>0.486820</td>\n",
       "      <td>1.603780</td>\n",
       "    </tr>\n",
       "    <tr>\n",
       "      <th>13</th>\n",
       "      <td>0.27</td>\n",
       "      <td>5.946</td>\n",
       "      <td>0.493880</td>\n",
       "      <td>1.824909</td>\n",
       "    </tr>\n",
       "    <tr>\n",
       "      <th>14</th>\n",
       "      <td>0.29</td>\n",
       "      <td>5.942</td>\n",
       "      <td>0.500680</td>\n",
       "      <td>2.057970</td>\n",
       "    </tr>\n",
       "    <tr>\n",
       "      <th>15</th>\n",
       "      <td>0.31</td>\n",
       "      <td>5.938</td>\n",
       "      <td>0.507248</td>\n",
       "      <td>2.302781</td>\n",
       "    </tr>\n",
       "    <tr>\n",
       "      <th>16</th>\n",
       "      <td>0.33</td>\n",
       "      <td>5.934</td>\n",
       "      <td>0.513609</td>\n",
       "      <td>2.559180</td>\n",
       "    </tr>\n",
       "    <tr>\n",
       "      <th>17</th>\n",
       "      <td>0.35</td>\n",
       "      <td>5.930</td>\n",
       "      <td>0.519786</td>\n",
       "      <td>2.827033</td>\n",
       "    </tr>\n",
       "    <tr>\n",
       "      <th>18</th>\n",
       "      <td>0.37</td>\n",
       "      <td>5.926</td>\n",
       "      <td>0.525798</td>\n",
       "      <td>3.106222</td>\n",
       "    </tr>\n",
       "    <tr>\n",
       "      <th>19</th>\n",
       "      <td>0.39</td>\n",
       "      <td>5.922</td>\n",
       "      <td>0.531663</td>\n",
       "      <td>3.396651</td>\n",
       "    </tr>\n",
       "    <tr>\n",
       "      <th>20</th>\n",
       "      <td>0.41</td>\n",
       "      <td>5.918</td>\n",
       "      <td>0.537397</td>\n",
       "      <td>3.698241</td>\n",
       "    </tr>\n",
       "  </tbody>\n",
       "</table>\n",
       "</div>"
      ],
      "text/plain": [
       "    Water Height (m)  Width (m)  Weir Coefficient (-)  Flow (m3/s)\n",
       "0               0.01      5.998              0.364659     0.009688\n",
       "1               0.03      5.994              0.379126     0.052304\n",
       "2               0.05      5.990              0.392446     0.116416\n",
       "3               0.07      5.986              0.404771     0.198766\n",
       "4               0.09      5.982              0.416227     0.297776\n",
       "5               0.11      5.978              0.426922     0.412423\n",
       "6               0.13      5.974              0.436949     0.541951\n",
       "7               0.15      5.970              0.446385     0.685757\n",
       "8               0.17      5.966              0.455300     0.843342\n",
       "9               0.19      5.962              0.463752     1.014280\n",
       "10              0.21      5.958              0.471794     1.198205\n",
       "11              0.23      5.954              0.479470     1.394798\n",
       "12              0.25      5.950              0.486820     1.603780\n",
       "13              0.27      5.946              0.493880     1.824909\n",
       "14              0.29      5.942              0.500680     2.057970\n",
       "15              0.31      5.938              0.507248     2.302781\n",
       "16              0.33      5.934              0.513609     2.559180\n",
       "17              0.35      5.930              0.519786     2.827033\n",
       "18              0.37      5.926              0.525798     3.106222\n",
       "19              0.39      5.922              0.531663     3.396651\n",
       "20              0.41      5.918              0.537397     3.698241"
      ]
     },
     "execution_count": 30,
     "metadata": {},
     "output_type": "execute_result"
    }
   ],
   "source": [
    "x"
   ]
  },
  {
   "cell_type": "code",
   "execution_count": 31,
   "metadata": {},
   "outputs": [
    {
     "data": {
      "image/png": "[encoded data removed]",
      "text/plain": [
       "<matplotlib.figure.Figure at 0x20169d2ef98>"
      ]
     },
     "metadata": {},
     "output_type": "display_data"
    }
   ],
   "source": [
    "plt.figure(num=None, figsize=(10, 6), dpi=80, facecolor='w', edgecolor='k')\n",
    "plt.plot(x['Flow (m3/s)'], x['Water Height (m)'], marker='o', linewidth=3)\n",
    "plt.title(\"Konzumpční křivka\")\n",
    "plt.grid(True)"
   ]
  },
  {
   "cell_type": "code",
   "execution_count": 32,
   "metadata": {},
   "outputs": [],
   "source": [
    "circumference = b"
   ]
  },
  {
   "cell_type": "code",
   "execution_count": 33,
   "metadata": {},
   "outputs": [],
   "source": [
    "r = circumference / math.pi"
   ]
  },
  {
   "cell_type": "code",
   "execution_count": 34,
   "metadata": {},
   "outputs": [
    {
     "data": {
      "text/plain": [
       "1.909859317102744"
      ]
     },
     "execution_count": 34,
     "metadata": {},
     "output_type": "execute_result"
    }
   ],
   "source": [
    "r"
   ]
  },
  {
   "cell_type": "code",
   "execution_count": 35,
   "metadata": {},
   "outputs": [
    {
     "data": {
      "text/plain": [
       "6"
      ]
     },
     "execution_count": 35,
     "metadata": {},
     "output_type": "execute_result"
    }
   ],
   "source": [
    "circumference"
   ]
  },
  {
   "cell_type": "code",
   "execution_count": 36,
   "metadata": {},
   "outputs": [],
   "source": [
    "# critical depth\n",
    "\n",
    "alfa = 1.05 # corriolis number\n",
    "design_flow = 3 # m3/s\n",
    "b_bottom = 2\n",
    "\n",
    "crit_depth = math.pow(((alfa * design_flow) / (9.81 * b_bottom)), 1/3)"
   ]
  },
  {
   "cell_type": "code",
   "execution_count": 37,
   "metadata": {},
   "outputs": [
    {
     "data": {
      "text/plain": [
       "0.5435053835686162"
      ]
     },
     "execution_count": 37,
     "metadata": {},
     "output_type": "execute_result"
    }
   ],
   "source": [
    "crit_depth"
   ]
  },
  {
   "cell_type": "code",
   "execution_count": null,
   "metadata": {},
   "outputs": [],
   "source": []
  }
 ],
 "metadata": {
  "kernelspec": {
   "display_name": "Python 3",
   "language": "python",
   "name": "python3"
  },
  "language_info": {
   "codemirror_mode": {
    "name": "ipython",
    "version": 3
   },
   "file_extension": ".py",
   "mimetype": "text/x-python",
   "name": "python",
   "nbconvert_exporter": "python",
   "pygments_lexer": "ipython3",
   "version": "3.6.4"
  }
 },
 "nbformat": 4,
 "nbformat_minor": 2
}
